{
  "nbformat": 4,
  "nbformat_minor": 0,
  "metadata": {
    "colab": {
      "provenance": [],
      "authorship_tag": "ABX9TyP18gOxDyzoyBK9jCg0TNTi",
      "include_colab_link": true
    },
    "kernelspec": {
      "name": "python3",
      "display_name": "Python 3"
    },
    "language_info": {
      "name": "python"
    }
  },
  "cells": [
    {
      "cell_type": "markdown",
      "metadata": {
        "id": "view-in-github",
        "colab_type": "text"
      },
      "source": [
        "<a href=\"https://colab.research.google.com/github/mkekulandara/Datascience_workshops/blob/main/Workshop_1_Introduction_to_Python_Programming.ipynb\" target=\"_parent\"><img src=\"https://colab.research.google.com/assets/colab-badge.svg\" alt=\"Open In Colab\"/></a>"
      ]
    },
    {
      "cell_type": "markdown",
      "source": [
        "# **Introduction to Python Programming**\n",
        "\n",
        "**Host: Madhukara Kekulandara, Ph.D. Candidate, Department of Computer Science, University of Rhode Island**\n",
        "\n",
        "**Objective:** In this tutorial, I will introduce Python programming. You will learn about the basics of Python, including data types, variables, simple input/output operations, control flow statements and functions in Python.\n",
        "\n",
        "**Duration:** Approximately 1/1:30 hours\n",
        "\n",
        "**Prerequisites:**\n",
        "- No prior programming experience is required.\n",
        "- Make sure Python is installed on the computers (Python 3.x recommended).\n"
      ],
      "metadata": {
        "id": "UUi0kJsxaFXL"
      }
    },
    {
      "cell_type": "markdown",
      "source": [
        "## **Python**\n",
        "\n",
        "Python is a versatile and popular programming language known for its simplicity and readability. It was created by Guido van Rossum and first released in 1991. Python's widespread adoption is due to several factors:\n",
        "\n",
        "1. **Easy to Learn:** Python has a straightforward and beginner-friendly syntax, making it an excellent choice for anyone new to programming.\n",
        "\n",
        "2. **Versatility:** Python can be used for a wide range of applications, including web development, data analysis, artificial intelligence, automation, and more. Its flexibility allows it to be used in various fields, making it a valuable skill in today's job market.\n",
        "\n",
        "3. **Large Community and Resources:** Python has a vast and active community of developers who contribute libraries, frameworks, and documentation. This wealth of resources makes learning and using Python easier and more accessible.\n",
        "\n",
        "4. **Data Science and Machine Learning:** Python's popularity skyrocketed with the rise of data science and machine learning. Libraries like NumPy, pandas, and scikit-learn have made Python a preferred language for data analysis and AI-related tasks.\n",
        "\n",
        "5. **Web Development:** Python offers frameworks like Django and Flask that simplify web development, allowing developers to build web applications more efficiently.\n",
        "\n",
        "6. **Automation and Scripting:** Python's simplicity and readability make it an excellent choice for automating tasks and writing small scripts, improving productivity in various fields.\n",
        "\n",
        "In summary, Python is a powerful and popular programming language due to its simplicity, versatility, and the wide range of applications it supports. Whether you're interested in data science, web development, or just want to learn programming, Python is a great language to start with. Its popularity across different industries and fields ensures that mastering Python can open up numerous opportunities in the job market and in academia."
      ],
      "metadata": {
        "id": "1aEdkvdTawaa"
      }
    },
    {
      "cell_type": "markdown",
      "source": [
        "## **Setting up the Python Environment**\n",
        "\n",
        "Setting up a Python environment locally and online can be accomplished using different tools and platforms. Here's a brief overview of the ways to set up Python environments in both scenarios:\n",
        "\n",
        "**1. Setting up Python Locally:**\n",
        "\n",
        "a. **Installing Python:** The first step is to install Python on your computer. You can download the latest version of Python from the official website (https://www.python.org/downloads/) and follow the installation instructions for your operating system.\n",
        "\n",
        "b. **Using Integrated Development Environments (IDEs):** IDEs provide a comprehensive environment for coding, debugging, and testing. Some popular Python IDEs include:\n",
        "   - PyCharm: A powerful IDE with advanced features for professional developers.\n",
        "   - Visual Studio Code: A lightweight and extensible code editor with great Python support.\n",
        "   - IDLE: The default Python IDE included with the Python installation.\n",
        "\n",
        "c. **Using Text Editors:** Alternatively, you can use text editors like Sublime Text, Atom, or Notepad++ to write Python code. These editors are simpler than IDEs but still offer syntax highlighting and basic code editing features.\n",
        "\n",
        "d. **Virtual Environments:** When working on multiple Python projects, it's advisable to use virtual environments to isolate dependencies. You can create virtual environments using `venv` (Python 3.3+) or `virtualenv` (Python 2 and 3).\n",
        "\n",
        "**2. Setting up Python Online:**\n",
        "\n",
        "a. **Online Code Editors:** Many websites offer online Python environments where you can write and run Python code directly from your browser. Some popular options include:\n",
        "   - Repl.it: A user-friendly online code editor that supports various programming languages, including Python.\n",
        "   - Jupyter Notebook: A web-based interactive computational environment for Python (and other languages) widely used in data science and research.\n",
        "\n",
        "b. **Cloud-Based Platforms:** Cloud platforms provide Python support and allow you to run your Python code on remote servers. Some examples are:\n",
        "   - Google Colab: A cloud-based Jupyter Notebook environment with free access to GPUs and TPUs for data science tasks.\n",
        "   - Microsoft Azure Notebooks: Similar to Google Colab, it provides cloud-based Jupyter Notebooks.\n",
        "\n",
        "c. **Online Learning Platforms:** Many online learning platforms like Codecademy, Coursera, and edX offer interactive Python coding environments within their courses.\n",
        "\n",
        "Setting up Python locally is the most common way for developers to work on projects, as it provides greater control over the environment and file system. However, online environments can be convenient for quick tests, learning purposes, or when collaborating with others remotely. Choose the option that best suits your needs and level of expertise."
      ],
      "metadata": {
        "id": "-iO8PtXskJ1U"
      }
    },
    {
      "cell_type": "markdown",
      "source": [
        "## **Basic Syntax and Data Types**\n",
        "\n",
        "In Python, statements and code indentation are essential concepts that govern the structure and execution of code. Let's explore each concept in detail:\n",
        "\n",
        "### **1. Statements:**\n",
        "In Python, a statement is a single line of code that performs an action or a task. It represents a complete instruction that the Python interpreter can execute. Examples of statements include variable assignments, function calls, loops, conditionals, and more. Each statement is typically written on a separate line, making the code easy to read and understand.\n",
        "\n",
        "Here are some examples of Python statements:\n",
        "\n",
        "```python\n",
        "# Variable assignment\n",
        "x = 10\n",
        "\n",
        "# Function call\n",
        "print(\"Hello, World!\")\n",
        "\n",
        "# Conditional statement\n",
        "if x > 5:\n",
        "    print(\"x is greater than 5\")\n",
        "else:\n",
        "    print(\"x is less than or equal to 5\")\n",
        "```\n",
        "\n",
        "### **2. Code Indentation:**\n",
        "Unlike many other programming languages that use curly braces `{}` or other symbols to denote code blocks, Python relies on indentation to indicate the grouping of statements. Indentation is the spaces or tabs added at the beginning of a line of code to show that it belongs to a particular block of code.\n",
        "\n",
        "Indentation is crucial in Python because it directly affects the program's logic and flow. It enhances code readability and enforces consistent formatting, leading to clean and understandable code.\n",
        "\n",
        "For example, in the conditional statement below, the indented block after the `if` and `else` statements represents the code executed under each condition:\n",
        "\n",
        "```python\n",
        "x = 10\n",
        "if x > 5:\n",
        "    print(\"x is greater than 5\")\n",
        "else:\n",
        "    print(\"x is less than or equal to 5\")\n",
        "```\n",
        "\n",
        "Python uses consistent indentation within the same block of code. Mixing tabs and spaces for indentation can lead to indentation errors. To maintain a well-formatted Python codebase, it is recommended to use four spaces for each level of indentation, although you can adjust this according to your preference.\n",
        "\n",
        "In summary, statements are individual instructions in Python that perform specific tasks, and indentation is used to group statements together and signify the code's structure and flow. Proper understanding and adherence to Python's indentation rules are crucial for writing clean, organized, and error-free Python code.\n",
        "\n",
        "### **3. Data Types:**\n",
        "\n",
        "In programming, data types are fundamental classifications that determine the kind of data that can be stored and manipulated in a programming language. Python, like many other programming languages, has several built-in data types. Here are the fundamental data types in Python:\n",
        "\n",
        "**1. Integer (`int`):**\n",
        "The integer data type represents whole numbers, both positive and negative, without any decimal point. Integers can be used for counting, indexing, and performing arithmetic operations.\n",
        "\n",
        "Examples of integers in Python:\n",
        "```python\n",
        "x = 5\n",
        "y = -10\n",
        "```\n",
        "\n",
        "**2. Float (`float`):**\n",
        "The float data type represents numbers with a decimal point or in exponential notation. Floats are used for representing real numbers and are used in situations where more precision is required than integers can provide.\n",
        "\n",
        "Examples of floats in Python:\n",
        "```python\n",
        "pi = 3.14\n",
        "salary = 2500.50\n",
        "```\n",
        "\n",
        "**3. String (`str`):**\n",
        "The string data type represents a sequence of characters enclosed within single quotes (`'`) or double quotes (`\"`). Strings are used to store text and are extensively used for working with textual data and representing information.\n",
        "\n",
        "Examples of strings in Python:\n",
        "```python\n",
        "name = 'John Doe'\n",
        "address = \"123 Main Street\"\n",
        "```\n",
        "\n",
        "**4. Boolean (`bool`):**\n",
        "The boolean data type represents one of two possible values: `True` or `False`. Booleans are used for logical operations and decision-making. They are often the result of comparisons or logical operations.\n",
        "\n",
        "Examples of booleans in Python:\n",
        "```python\n",
        "is_student = True\n",
        "is_registered = False\n",
        "```\n",
        "\n",
        "These fundamental data types are the building blocks of data manipulation in Python. Understanding data types is crucial because it allows you to perform operations specific to each type and ensures that the program behaves as intended when working with different kinds of data. Python, being a dynamically typed language, allows variables to change their data type during the execution of a program, making it flexible and easy to work with different types of data."
      ],
      "metadata": {
        "id": "NyS0_goOlbDL"
      }
    },
    {
      "cell_type": "markdown",
      "source": [
        "## **Simple Input/Output Operations**\n",
        "\n"
      ],
      "metadata": {
        "id": "nGAyrc1QlcPv"
      }
    },
    {
      "cell_type": "markdown",
      "source": [
        "### **print()**\n",
        "\n",
        "The `print()` function in Python is used to display output or print information to the console or terminal. It is a built-in function and is one of the most commonly used functions in Python for basic output purposes. The `print()` function can display text, numbers, variables, and the results of expressions or calculations.\n",
        "\n",
        "Here's a step-by-step guide on how to use the `print()` function to display output:\n",
        "\n",
        "Step 1: Call the `print()` function\n",
        "To use the `print()` function, simply call it followed by the items you want to display within parentheses. Separate multiple items with commas.\n",
        "\n",
        "Step 2: Output strings, variables, or expressions\n",
        "You can pass strings, variables, or even expressions to the `print()` function.\n",
        "\n",
        "Examples:\n",
        "\n",
        "1. Outputting a simple string:\n",
        "\n",
        "```python\n",
        "print(\"Hello, World!\")\n",
        "```\n",
        "\n",
        "2. Outputting a variable:\n",
        "\n",
        "```python\n",
        "name = \"John\"\n",
        "print(\"Hello, \" + name)\n",
        "```\n",
        "\n",
        "3. Outputting the result of an expression:\n",
        "\n",
        "```python\n",
        "x = 5\n",
        "y = 10\n",
        "print(\"Sum of x and y:\", x + y)\n",
        "```\n",
        "\n",
        "4. Combining strings and variables:\n",
        "\n",
        "```python\n",
        "age = 25\n",
        "print(\"I am\", age, \"years old.\")\n",
        "```\n",
        "\n",
        "In all these examples, the `print()` function will display the specified output in the console or terminal.\n",
        "\n",
        "You can also customize the behavior of the `print()` function using optional arguments like `sep` (separator) and `end`. The `sep` argument allows you to specify a character or string to separate the items being printed (default is a space), and the `end` argument lets you define what to print at the end of the `print()` function (default is a newline character).\n",
        "\n",
        "Example using `sep` and `end`:\n",
        "\n",
        "```python\n",
        "name = \"Alice\"\n",
        "age = 30\n",
        "print(\"Name:\", name, \"Age:\", age, sep=\" - \", end=\" years old\\n\")\n",
        "```\n",
        "\n",
        "This will output: `Name: Alice - Age: 30 years old`.\n",
        "\n",
        "Using the `print()` function is an essential skill in Python programming, as it allows you to display information to users, show intermediate results during program execution, and debug your code. It's a simple yet powerful tool for communicating with the user and understanding how your program is running."
      ],
      "metadata": {
        "id": "Phcs_tzZn7PW"
      }
    },
    {
      "cell_type": "markdown",
      "source": [
        "### **input()**\n",
        "\n",
        "The `input()` function in Python is used to take user input from the keyboard during the execution of a program. It allows the program to pause and wait for the user to enter some data, which is then stored as a string and can be assigned to a variable for further processing.\n",
        "\n",
        "Here's a step-by-step guide on how to use the `input()` function to take user input:\n",
        "\n",
        "Step 1: Using the `input()` function\n",
        "To take user input, simply call the `input()` function. When the `input()` function is executed, the program will stop and wait for the user to type something and press the \"Enter\" key.\n",
        "\n",
        "Step 2: Assigning the input to a variable\n",
        "To store the user's input in a variable for later use, you can assign the result of the `input()` function to a variable.\n",
        "\n",
        "Here's an example:\n",
        "\n",
        "```python\n",
        "# Taking user input and storing it in a variable\n",
        "name = input(\"Enter your name: \")\n",
        "\n",
        "# Displaying the input\n",
        "print(\"Hello, \" + name + \"! Welcome to our program.\")\n",
        "```\n",
        "\n",
        "In this example, the program will prompt the user with the message \"Enter your name: \". The user can then type their name and press \"Enter\". The input is stored in the `name` variable, which can be used later in the program.\n",
        "\n",
        "Keep in mind that the `input()` function always returns a string. If you want to use the user input as a different data type (e.g., integer or float), you will need to convert it explicitly using functions like `int()` or `float()`.\n",
        "\n",
        "Here's an example of converting user input to an integer:\n",
        "\n",
        "```python\n",
        "# Taking user input and converting it to an integer\n",
        "age_str = input(\"Enter your age: \")\n",
        "age = int(age_str)\n",
        "\n",
        "# Performing some calculations with the user input\n",
        "next_year_age = age + 1\n",
        "\n",
        "# Displaying the result\n",
        "print(\"Next year, you will be\", next_year_age, \"years old.\")\n",
        "```\n",
        "\n",
        "In this example, the program will take the user's age as input (which is initially stored as a string). It then converts the input to an integer using `int()` and performs calculations accordingly.\n",
        "\n",
        "Always ensure that you handle user input carefully, as it can lead to errors if not properly validated or converted to the appropriate data type. Using `input()` allows your programs to interact with users and make them more dynamic and user-friendly."
      ],
      "metadata": {
        "id": "HXV90Hf2nvd8"
      }
    },
    {
      "cell_type": "markdown",
      "source": [
        "## **Practice Exercises**"
      ],
      "metadata": {
        "id": "b1MpF8eflgMn"
      }
    },
    {
      "cell_type": "markdown",
      "source": [
        "**Exercise 1: Simple Calculator**\n",
        "Write a program that takes two numbers as input from the user and performs basic arithmetic operations (addition, subtraction, multiplication, and division) on those numbers. Display the results using the `print()` function."
      ],
      "metadata": {
        "id": "86VZDcgTrHuP"
      }
    },
    {
      "cell_type": "code",
      "source": [],
      "metadata": {
        "id": "NJ_r3o60rxr1"
      },
      "execution_count": null,
      "outputs": []
    },
    {
      "cell_type": "markdown",
      "source": [
        "**Exercise 2: Age Calculator**\n",
        "Write a program that takes the user's birth year as input and calculates their age. Display the age using the `print()` function."
      ],
      "metadata": {
        "id": "zwb9mmRyrwbI"
      }
    },
    {
      "cell_type": "code",
      "source": [],
      "metadata": {
        "id": "VdovmwICrxQQ"
      },
      "execution_count": null,
      "outputs": []
    },
    {
      "cell_type": "markdown",
      "source": [
        "**Exercise 3: Temperature Conversion**\n",
        "Write a program that takes the temperature in Celsius as input from the user and converts it to Fahrenheit. Display the result using the `print()` function."
      ],
      "metadata": {
        "id": "Dkv5LQEortj2"
      }
    },
    {
      "cell_type": "code",
      "source": [],
      "metadata": {
        "id": "KRIwopMwruNt"
      },
      "execution_count": null,
      "outputs": []
    },
    {
      "cell_type": "markdown",
      "source": [
        "**Exercise 4: BMI Calculator**\n",
        "Write a program that takes the user's weight (in kilograms) and height (in meters) as input and calculates their Body Mass Index (BMI). Display the BMI using the `print()` function."
      ],
      "metadata": {
        "id": "t0MTO70FrqWE"
      }
    },
    {
      "cell_type": "code",
      "source": [],
      "metadata": {
        "id": "9i2vj2gJryWD"
      },
      "execution_count": null,
      "outputs": []
    },
    {
      "cell_type": "markdown",
      "source": [
        "**Exercise 5: String Manipulation**\n",
        "Write a program that takes the user's name as input and performs the following operations:\n",
        "- Display the name in uppercase using the `upper()` method.\n",
        "- Display the name in lowercase using the `lower()` method.\n",
        "- Display the length of the name using the `len()` function."
      ],
      "metadata": {
        "id": "NqrI9XN0rmjJ"
      }
    },
    {
      "cell_type": "code",
      "source": [],
      "metadata": {
        "id": "zS0yEAaBrzP2"
      },
      "execution_count": null,
      "outputs": []
    },
    {
      "cell_type": "markdown",
      "source": [
        "**Exercise 6: Area of a Circle**\n",
        "Write a program that takes the radius of a circle as input from the user and calculates its area. Display the area using the `print()` function. (Hint: Area of a circle = π * r^2)"
      ],
      "metadata": {
        "id": "150rcW_ErjIG"
      }
    },
    {
      "cell_type": "code",
      "source": [],
      "metadata": {
        "id": "j6LmKPftrz9t"
      },
      "execution_count": null,
      "outputs": []
    },
    {
      "cell_type": "markdown",
      "source": [
        "**Exercise 7: Sum of Digits**\n",
        "Write a program that takes a positive integer as input from the user and calculates the sum of its digits. Display the result using the `print()` function."
      ],
      "metadata": {
        "id": "qmyBCqJjretR"
      }
    },
    {
      "cell_type": "code",
      "source": [],
      "metadata": {
        "id": "JSXHr5zZr0s0"
      },
      "execution_count": null,
      "outputs": []
    },
    {
      "cell_type": "markdown",
      "source": [
        "**Exercise 8: Even or Odd**\n",
        "Write a program that takes an integer as input from the user and determines whether it is even or odd. Display the result using the `print()` function."
      ],
      "metadata": {
        "id": "olG7M4iArbfR"
      }
    },
    {
      "cell_type": "code",
      "source": [],
      "metadata": {
        "id": "ARS7-Goir1N7"
      },
      "execution_count": null,
      "outputs": []
    },
    {
      "cell_type": "markdown",
      "source": [
        "**Exercise 9: Simple Interest Calculator**\n",
        "Write a program that takes the principal amount, interest rate, and time period (in years) as input from the user and calculates the simple interest. Display the result using the `print()` function. (Hint: Simple Interest = (Principal * Rate * Time) / 100)"
      ],
      "metadata": {
        "id": "h-RPRCknrY0f"
      }
    },
    {
      "cell_type": "code",
      "source": [],
      "metadata": {
        "id": "8eZixT8Ir4ie"
      },
      "execution_count": null,
      "outputs": []
    },
    {
      "cell_type": "markdown",
      "source": [
        "**Exercise 10: Leap Year Checker**\n",
        "Write a program that takes a year as input from the user and determines whether it is a leap year or not. Display the result using the `print()` function. (Hint: Leap years are divisible by 4, except for years that are divisible by 100 but not divisible by 400)"
      ],
      "metadata": {
        "id": "P-M_QdFgrUCP"
      }
    },
    {
      "cell_type": "code",
      "source": [],
      "metadata": {
        "id": "DnkhF4fer5KS"
      },
      "execution_count": null,
      "outputs": []
    },
    {
      "cell_type": "markdown",
      "source": [
        "## **Conditional Statements**\n",
        "\n",
        "Decision-making, also known as conditional statements, is a fundamental concept in programming that allows a program to make choices or decisions based on certain conditions. It enables the program to execute different blocks of code depending on whether a particular condition is true or false.\n",
        "\n",
        "In programming, decision-making is crucial for creating dynamic and interactive programs that can respond to user input or varying situations. It helps control the flow of the program and allows it to perform different actions based on the input or data it receives during runtime.\n",
        "\n",
        "The most common type of decision-making construct in programming is the \"if-else\" statement, which has the following syntax:\n",
        "\n",
        "```python\n",
        "if condition:\n",
        "    # Code to execute if the condition is True\n",
        "else:\n",
        "    # Code to execute if the condition is False\n",
        "```\n",
        "\n",
        "The `condition` is an expression that evaluates to either True or False. If the condition is True, the code block under the \"if\" statement will be executed, and if it's False, the code block under the \"else\" statement will be executed.\n",
        "\n",
        "Here's a simple example:\n",
        "\n",
        "```python\n",
        "age = int(input(\"Enter your age: \"))\n",
        "\n",
        "if age >= 18:\n",
        "    print(\"You are an adult.\")\n",
        "else:\n",
        "    print(\"You are a minor.\")\n",
        "```\n",
        "\n",
        "In this example, the program takes the user's age as input, and based on the condition (age >= 18), it decides whether the user is an adult or a minor and displays the appropriate message.\n",
        "\n",
        "Besides \"if-else\" statements, there are other decision-making constructs such as \"if-elif-else\" and nested if statements. The \"if-elif-else\" statement allows you to handle multiple conditions in sequence, and the nested if statements allow you to have if statements within other if statements.\n",
        "\n",
        "Here's an example using \"if-elif-else\":\n",
        "\n",
        "```python\n",
        "score = int(input(\"Enter your test score: \"))\n",
        "\n",
        "if score >= 90:\n",
        "    print(\"You got an A.\")\n",
        "elif score >= 80:\n",
        "    print(\"You got a B.\")\n",
        "elif score >= 70:\n",
        "    print(\"You got a C.\")\n",
        "else:\n",
        "    print(\"You need to improve your score.\")\n",
        "```\n",
        "\n",
        "In this example, the program takes the user's test score as input and decides the corresponding grade based on different score ranges.\n",
        "\n",
        "Decision-making is a powerful concept that allows programmers to create flexible and responsive programs that adapt to different scenarios. By incorporating decision-making constructs into your code, you can control the logic and behavior of your programs more effectively and make them more interactive and user-friendly."
      ],
      "metadata": {
        "id": "EkyDyWO9R3CY"
      }
    },
    {
      "cell_type": "markdown",
      "source": [
        "## **Loops**\n",
        "\n",
        "**a. Introducing the Concept of Loops:**\n",
        "\n",
        "In programming, loops are structures that allow a block of code to be executed repeatedly until a certain condition is met. They are used to perform repetitive tasks efficiently and avoid writing the same code multiple times. Loops are crucial for automating repetitive processes and handling large sets of data.\n",
        "\n",
        "The significance of loops lies in their ability to simplify and optimize code, making it more manageable and easier to maintain. Without loops, developers would need to write redundant code for every iteration, leading to longer and less readable programs. With loops, the same set of instructions can be applied to different data elements, allowing for more streamlined and scalable solutions.\n",
        "\n",
        "**b. The `for` Loop:**\n",
        "\n",
        "The `for` loop is a type of loop that iterates over elements of an iterable object (e.g., lists, strings, tuples, etc.). It repeatedly executes a block of code for each element in the iterable until all elements have been processed.\n",
        "\n",
        "The syntax of the `for` loop in Python is as follows:\n",
        "\n",
        "```python\n",
        "for item in iterable:\n",
        "    # Code to be executed for each 'item'\n",
        "```\n",
        "\n",
        "The `item` is a variable that takes on the value of each element in the iterable, and the block of code indented under the loop is executed for each element in the iterable.\n",
        "\n",
        "**c. The `while` Loop:**\n",
        "\n",
        "The `while` loop is another type of loop that repeatedly executes a block of code as long as a specified condition remains true. Unlike the `for` loop, the `while` loop does not iterate over elements of an iterable but depends on the truthfulness of the given condition.\n",
        "\n",
        "The syntax of the `while` loop in Python is as follows:\n",
        "\n",
        "```python\n",
        "while condition:\n",
        "    # Code to be executed while 'condition' is True\n",
        "```\n",
        "\n",
        "The block of code indented under the `while` loop continues to execute as long as the `condition` remains true. If the condition becomes false or never becomes false, the loop will continue indefinitely, potentially resulting in an infinite loop.\n",
        "\n",
        "**d. Examples of Using Loops to Solve Simple Problems:**\n",
        "\n",
        "Example 1: Sum of Numbers using `for` loop\n",
        "\n",
        "```python\n",
        "numbers = [1, 2, 3, 4, 5]\n",
        "sum_of_numbers = 0\n",
        "\n",
        "for num in numbers:\n",
        "    sum_of_numbers += num\n",
        "\n",
        "print(\"Sum of numbers:\", sum_of_numbers)\n",
        "```\n",
        "\n",
        "Example 2: Reverse a String using `while` loop\n",
        "\n",
        "```python\n",
        "text = \"Hello, World!\"\n",
        "reversed_text = \"\"\n",
        "index = len(text) - 1\n",
        "\n",
        "while index >= 0:\n",
        "    reversed_text += text[index]\n",
        "    index -= 1\n",
        "\n",
        "print(\"Reversed text:\", reversed_text)\n",
        "```\n",
        "\n",
        "These examples demonstrate how loops can be used to solve repetitive tasks efficiently. The `for` loop iterates over a list to calculate the sum of its elements, while the `while` loop reverses a string character by character. Loops are essential in solving problems that involve iterating over data elements or performing tasks repeatedly until a specific condition is met."
      ],
      "metadata": {
        "id": "zsYDO6u6Scmy"
      }
    },
    {
      "cell_type": "markdown",
      "source": [
        "## **Break and Continue**\n",
        "\n",
        "**a. The `break` Statement:**\n",
        "\n",
        "The `break` statement is used in loops to exit or terminate the loop prematurely when a certain condition is met. When the `break` statement is encountered inside a loop, the loop immediately stops executing, and the program continues with the code after the loop.\n",
        "\n",
        "The `break` statement is often used to add an escape condition to a loop, preventing unnecessary iterations when the desired outcome has been achieved.\n",
        "\n",
        "**b. The `continue` Statement:**\n",
        "\n",
        "The `continue` statement is used in loops to skip the current iteration and proceed to the next iteration of the loop. When the `continue` statement is encountered inside a loop, it stops executing the current iteration's code and moves on to the next iteration, effectively skipping any code that comes after the `continue` statement within the current iteration.\n",
        "\n",
        "The `continue` statement is typically used when certain iterations need to be skipped based on a specific condition, but the loop should continue with the subsequent iterations.\n",
        "\n",
        "**c. Illustrating Usage with Examples:**\n",
        "\n",
        "Example 1: Using `break` to find the first even number in a list.\n",
        "\n",
        "```python\n",
        "numbers = [1, 3, 5, 7, 8, 9, 10, 12, 14]\n",
        "\n",
        "for num in numbers:\n",
        "    if num % 2 == 0:\n",
        "        print(\"First even number found:\", num)\n",
        "        break\n",
        "```\n",
        "\n",
        "In this example, the `for` loop iterates over the list of numbers. When it encounters the first even number (in this case, 8), the `break` statement is executed, causing the loop to terminate prematurely. The output will be: `First even number found: 8`.\n",
        "\n",
        "Example 2: Using `continue` to skip negative numbers in a list.\n",
        "\n",
        "```python\n",
        "numbers = [1, -2, 3, -4, 5, -6, 7, -8]\n",
        "\n",
        "for num in numbers:\n",
        "    if num < 0:\n",
        "        continue\n",
        "    print(\"Positive number:\", num)\n",
        "```\n",
        "\n",
        "In this example, the `for` loop iterates over the list of numbers. When it encounters a negative number, the `continue` statement is executed, and the code after the `continue` is skipped for that iteration. The loop continues with the next iteration. The output will be:\n",
        "```\n",
        "Positive number: 1\n",
        "Positive number: 3\n",
        "Positive number: 5\n",
        "Positive number: 7\n",
        "```\n",
        "\n",
        "In summary, the `break` statement allows you to exit a loop prematurely, while the `continue` statement lets you skip the current iteration and proceed to the next one. These statements provide greater control over loop execution and can be valuable when dealing with specific conditions or requirements in a loop."
      ],
      "metadata": {
        "id": "oH_f9L_9S6Fy"
      }
    },
    {
      "cell_type": "markdown",
      "source": [
        "## **Functions**\n",
        "\n",
        "**a. Introducing the Concept of Functions:**\n",
        "\n",
        "In programming, a function is a reusable block of code that performs a specific task or set of tasks. Functions play a crucial role in modular programming by breaking down a complex program into smaller, manageable pieces. This modular approach makes code more organized, easier to read, and maintainable.\n",
        "\n",
        "The main advantages of using functions are:\n",
        "1. **Reusability:** Functions can be used multiple times in a program or even in different programs, reducing redundancy and promoting code reuse.\n",
        "2. **Abstraction:** Functions abstract away the implementation details, allowing the main program to focus on high-level logic without worrying about the internal workings of the function.\n",
        "3. **Readability:** Breaking down code into functions enhances readability and makes it easier to understand the overall program structure.\n",
        "\n",
        "**b. Syntax for Defining and Calling Functions:**\n",
        "\n",
        "In Python, the syntax for defining a function is as follows:\n",
        "\n",
        "```python\n",
        "def function_name(parameters):\n",
        "    # Function body: code to perform the task\n",
        "    # Optional: return statement to return a value (if required)\n",
        "```\n",
        "\n",
        "To define a function, you use the `def` keyword, followed by the function name, a pair of parentheses ( ), and a colon (:) to start the function's body. The function body contains the code that performs the task the function is designed for.\n",
        "\n",
        "To call a function, you simply write the function name followed by parentheses:\n",
        "\n",
        "```python\n",
        "function_name(arguments)  # If the function has parameters, pass them inside the parentheses\n",
        "```\n",
        "\n",
        "**c. Importance of Function Reusability:**\n",
        "\n",
        "Function reusability is a fundamental principle of programming. It allows developers to create code that can be used in various contexts without having to rewrite the same logic repeatedly. By creating reusable functions, you can save time, reduce errors, and improve the overall maintainability of your codebase.\n",
        "\n",
        "Functions that are designed to perform specific tasks can be called multiple times from different parts of the program, making the code more concise and easier to understand. Any changes or improvements to the function logic will automatically apply wherever the function is called, ensuring consistency throughout the program.\n",
        "\n",
        "**d. Examples of Creating and Using Functions:**\n",
        "\n",
        "Example 1: Function without Parameters and Return Value\n",
        "\n",
        "```python\n",
        "def greet():\n",
        "    print(\"Hello, World!\")\n",
        "\n",
        "greet()  # Calling the function\n",
        "```\n",
        "\n",
        "Example 2: Function with Parameters and Return Value\n",
        "\n",
        "```python\n",
        "def add_numbers(num1, num2):\n",
        "    result = num1 + num2\n",
        "    return result\n",
        "\n",
        "sum_result = add_numbers(5, 7)\n",
        "print(\"Sum:\", sum_result)\n",
        "```\n",
        "\n",
        "Example 3: Function with Default Parameter Value\n",
        "\n",
        "```python\n",
        "def greet(name=\"Guest\"):\n",
        "    print(\"Hello, \" + name + \"!\")\n",
        "\n",
        "greet()         # Output: Hello, Guest!\n",
        "greet(\"Alice\")  # Output: Hello, Alice!\n",
        "```\n",
        "\n",
        "In these examples, we define functions that demonstrate different aspects of function creation and usage. Function `greet()` prints a simple greeting, `add_numbers()` returns the sum of two numbers, and `greet()` with a default parameter value allows you to greet someone by name or a guest if no name is provided.\n",
        "\n",
        "By using functions effectively, you can organize your code, improve readability, and create code that can be easily maintained and reused in various projects."
      ],
      "metadata": {
        "id": "IqBF9Vy8TL2S"
      }
    },
    {
      "cell_type": "markdown",
      "source": [
        "## **Practice Exercises**"
      ],
      "metadata": {
        "id": "zxjh111ITjpd"
      }
    },
    {
      "cell_type": "markdown",
      "source": [
        "**Exercise 1: Even or Odd**\n",
        "Write a function that takes an integer as input and returns whether it is even or odd. Use a loop to repeat the process until the user enters \"0\" to exit."
      ],
      "metadata": {
        "id": "c3J0rmqnUiD2"
      }
    },
    {
      "cell_type": "code",
      "source": [],
      "metadata": {
        "id": "bgOHJLJKU7vI"
      },
      "execution_count": null,
      "outputs": []
    },
    {
      "cell_type": "markdown",
      "source": [
        "**Exercise 2: Guess the Number**\n",
        "Write a program that generates a random number between 1 and 100. Ask the user to guess the number. Provide feedback if the guess is too high or too low. Use a loop to repeat the guessing process until the user correctly guesses the number."
      ],
      "metadata": {
        "id": "7yfl19AfU4vb"
      }
    },
    {
      "cell_type": "code",
      "source": [],
      "metadata": {
        "id": "no3P5lomU5Sm"
      },
      "execution_count": null,
      "outputs": []
    },
    {
      "cell_type": "markdown",
      "source": [
        "**Exercise 3: Factorial Calculation**\n",
        "Write a function that calculates the factorial of a given positive integer. Use a loop to perform the calculation. Handle the case of 0 separately."
      ],
      "metadata": {
        "id": "HkFSSlSSU1TK"
      }
    },
    {
      "cell_type": "code",
      "source": [],
      "metadata": {
        "id": "P7gyKF7SU2HO"
      },
      "execution_count": null,
      "outputs": []
    },
    {
      "cell_type": "markdown",
      "source": [
        "**Exercise 4: Palindrome Checker**\n",
        "Write a function that checks if a given string is a palindrome (reads the same forwards and backwards). Use a loop to compare characters from both ends of the string."
      ],
      "metadata": {
        "id": "PVxFIgumUzBU"
      }
    },
    {
      "cell_type": "code",
      "source": [],
      "metadata": {
        "id": "wUhX_ypAUzc6"
      },
      "execution_count": null,
      "outputs": []
    },
    {
      "cell_type": "markdown",
      "source": [
        "**Exercise 5: Prime Number Checker**\n",
        "Write a function that takes an integer as input and returns whether it is a prime number or not. Use a loop to check if the number is divisible by any number from 2 to the square root of the number."
      ],
      "metadata": {
        "id": "J7WAhztEUvvo"
      }
    },
    {
      "cell_type": "code",
      "source": [],
      "metadata": {
        "id": "TshNZjkIUwYl"
      },
      "execution_count": null,
      "outputs": []
    },
    {
      "cell_type": "markdown",
      "source": [
        "**Exercise 6: Password Validator**\n",
        "Write a function that checks if a given password is valid based on certain conditions (e.g., minimum length, presence of special characters, etc.). Use conditional statements to determine if the password meets the required criteria."
      ],
      "metadata": {
        "id": "JAliEHUeUtLF"
      }
    },
    {
      "cell_type": "code",
      "source": [],
      "metadata": {
        "id": "MxJS1T6JUt3n"
      },
      "execution_count": null,
      "outputs": []
    },
    {
      "cell_type": "markdown",
      "source": [
        "**Exercise 7: FizzBuzz**\n",
        "Write a program that prints numbers from 1 to 100. For multiples of 3, print \"Fizz\" instead of the number. For multiples of 5, print \"Buzz\" instead of the number. For numbers that are multiples of both 3 and 5, print \"FizzBuzz\"."
      ],
      "metadata": {
        "id": "ThhOoXoCUp5v"
      }
    },
    {
      "cell_type": "code",
      "source": [],
      "metadata": {
        "id": "uiZq3glMUqjo"
      },
      "execution_count": null,
      "outputs": []
    },
    {
      "cell_type": "markdown",
      "source": [
        "**Exercise 8: Weather App**\n",
        "Write a program that asks the user to enter the temperature in Celsius. Use a loop to repeatedly ask for temperature input until the user enters \"exit\". Provide the option to convert the temperature to Fahrenheit. Use functions for conversion and temperature classification (e.g., cold, warm, hot)."
      ],
      "metadata": {
        "id": "foZTT6gfUmp4"
      }
    },
    {
      "cell_type": "code",
      "source": [],
      "metadata": {
        "id": "OqeGxOv4UnIn"
      },
      "execution_count": null,
      "outputs": []
    }
  ]
}