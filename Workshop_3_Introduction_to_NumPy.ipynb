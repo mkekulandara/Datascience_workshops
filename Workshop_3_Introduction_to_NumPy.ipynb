{
  "nbformat": 4,
  "nbformat_minor": 0,
  "metadata": {
    "colab": {
      "provenance": [],
      "authorship_tag": "ABX9TyNfbvlmlCBpaguSVk3QQNzC",
      "include_colab_link": true
    },
    "kernelspec": {
      "name": "python3",
      "display_name": "Python 3"
    },
    "language_info": {
      "name": "python"
    }
  },
  "cells": [
    {
      "cell_type": "markdown",
      "metadata": {
        "id": "view-in-github",
        "colab_type": "text"
      },
      "source": [
        "<a href=\"https://colab.research.google.com/github/mkekulandara/Datascience_workshops/blob/main/Workshop_3_Introduction_to_NumPy.ipynb\" target=\"_parent\"><img src=\"https://colab.research.google.com/assets/colab-badge.svg\" alt=\"Open In Colab\"/></a>"
      ]
    },
    {
      "cell_type": "markdown",
      "source": [
        "# **Introduction to NumPy**\n",
        "\n",
        "Objective: In this tutorial, we will delve deeper into the NumPy library, understanding their powerful data manipulation and analysis functionalities.\n",
        "\n",
        "Duration: Approximately 1 hour"
      ],
      "metadata": {
        "id": "ZClSFgG7psa_"
      }
    },
    {
      "cell_type": "markdown",
      "source": [
        "## **Introduction to NumPy**\n",
        "\n",
        "**a. Introducing NumPy for Numerical Computing:**\n",
        "\n",
        "NumPy (Numerical Python) is a powerful library in Python that provides support for large, multi-dimensional arrays and matrices, along with a wide range of mathematical functions to operate on these arrays efficiently. NumPy is widely used in scientific computing, data analysis, machine learning, and other numerical tasks due to its speed and ease of use.\n",
        "\n",
        "**b. The Concept of Arrays and Their Advantages over Lists:**\n",
        "\n",
        "Arrays in NumPy are similar to Python lists, but they offer several advantages for numerical computing:\n",
        "\n",
        "1. **Efficient Element-Wise Operations:** NumPy allows efficient element-wise operations on arrays, making it faster and more convenient to perform mathematical operations on large datasets compared to using Python lists.\n",
        "\n",
        "2. **Memory Efficiency:** NumPy arrays are more memory-efficient than Python lists because they store elements of the same data type contiguously in memory. This results in reduced memory overhead and better performance.\n",
        "\n",
        "3. **Broadcasting:** NumPy supports broadcasting, which enables element-wise operations between arrays of different shapes, automatically handling size mismatches.\n",
        "\n",
        "4. **Support for Mathematical Functions:** NumPy provides a wide range of mathematical functions, such as trigonometric, logarithmic, statistical, and linear algebra operations, making it a versatile library for numerical computations.\n",
        "\n",
        "5. **Array Slicing and Indexing:** NumPy offers powerful array slicing and indexing capabilities, allowing easy extraction and manipulation of data.\n",
        "\n",
        "**c. Creating Arrays and Performing Basic Array Operations:**\n",
        "\n",
        "To use NumPy, you need to install it first. You can install NumPy using `pip`:\n",
        "\n",
        "```\n",
        "pip install numpy\n",
        "```\n",
        "\n",
        "Once installed, you can import NumPy in your Python script as follows:\n",
        "\n",
        "```python\n",
        "import numpy as np\n",
        "```\n",
        "\n",
        "Now, let's see how to create arrays and perform basic array operations:\n",
        "\n",
        "```python\n",
        "import numpy as np\n",
        "\n",
        "# Create a 1D array from a Python list\n",
        "arr1d = np.array([1, 2, 3, 4, 5])\n",
        "\n",
        "# Create a 2D array (matrix) from a list of lists\n",
        "arr2d = np.array([[1, 2, 3], [4, 5, 6], [7, 8, 9]])\n",
        "\n",
        "# Get the dimensions of the arrays\n",
        "print(\"Shape of arr1d:\", arr1d.shape)\n",
        "print(\"Shape of arr2d:\", arr2d.shape)\n",
        "\n",
        "# Access elements in the array using indexing\n",
        "print(\"Element at index 2 in arr1d:\", arr1d[2])\n",
        "print(\"Element at row 1, column 2 in arr2d:\", arr2d[1, 2])\n",
        "\n",
        "# Perform basic operations on arrays\n",
        "arr_sum = arr1d + arr1d\n",
        "arr_product = arr1d * 2\n",
        "arr_squared = arr1d ** 2\n",
        "\n",
        "# Broadcasting: Operations between arrays of different shapes\n",
        "arr_broadcast = arr1d + 10\n",
        "\n",
        "# Statistical operations\n",
        "arr_mean = np.mean(arr1d)\n",
        "arr_max = np.max(arr1d)\n",
        "\n",
        "print(\"Sum of arr1d:\", arr_sum)\n",
        "print(\"Double of arr1d:\", arr_product)\n",
        "print(\"Squared of arr1d:\", arr_squared)\n",
        "print(\"Broadcasted arr1d:\", arr_broadcast)\n",
        "print(\"Mean of arr1d:\", arr_mean)\n",
        "print(\"Max value of arr1d:\", arr_max)\n",
        "```\n",
        "\n",
        "In this example, we create 1D and 2D arrays using NumPy's `array()` function. We then perform basic array operations, such as addition, multiplication, and broadcasting, as well as statistical operations, such as mean and maximum value.\n",
        "\n",
        "NumPy's capabilities extend beyond these basic operations, providing a wealth of functionalities for numerical computing. You can explore more advanced topics like array broadcasting, array slicing, and matrix operations to unlock the full potential of NumPy for scientific and numerical computing tasks."
      ],
      "metadata": {
        "id": "nH2lBrfGpyBx"
      }
    },
    {
      "cell_type": "markdown",
      "source": [
        "## **NumPy Array Operations**\n",
        "\n",
        "**a. Element-Wise Operations on Arrays:**\n",
        "\n",
        "NumPy allows for efficient element-wise operations on arrays, where the corresponding elements of two or more arrays are combined using mathematical operators. These operations are performed on each element of the arrays independently, and the resulting array has the same shape as the original arrays.\n",
        "\n",
        "```python\n",
        "import numpy as np\n",
        "\n",
        "# Create two 1D arrays\n",
        "arr1 = np.array([1, 2, 3, 4, 5])\n",
        "arr2 = np.array([10, 20, 30, 40, 50])\n",
        "\n",
        "# Element-wise addition\n",
        "result_add = arr1 + arr2\n",
        "\n",
        "# Element-wise subtraction\n",
        "result_subtract = arr1 - arr2\n",
        "\n",
        "# Element-wise multiplication\n",
        "result_multiply = arr1 * arr2\n",
        "\n",
        "# Element-wise division\n",
        "result_divide = arr1 / arr2\n",
        "\n",
        "print(\"Array 1:\", arr1)\n",
        "print(\"Array 2:\", arr2)\n",
        "print(\"Addition:\", result_add)\n",
        "print(\"Subtraction:\", result_subtract)\n",
        "print(\"Multiplication:\", result_multiply)\n",
        "print(\"Division:\", result_divide)\n",
        "```\n",
        "\n",
        "**b. Broadcasting in Array Operations:**\n",
        "\n",
        "Broadcasting is a powerful feature in NumPy that allows element-wise operations between arrays of different shapes. When performing operations between arrays with different shapes, NumPy automatically broadcasts the smaller array to match the shape of the larger array, making the operation possible.\n",
        "\n",
        "```python\n",
        "import numpy as np\n",
        "\n",
        "# Create a 1D array\n",
        "arr = np.array([1, 2, 3, 4, 5])\n",
        "\n",
        "# Broadcasting: Add a scalar to each element of the array\n",
        "result_broadcast = arr + 10\n",
        "\n",
        "print(\"Original Array:\", arr)\n",
        "print(\"Broadcasted Array:\", result_broadcast)\n",
        "```\n",
        "\n",
        "In this example, the scalar value 10 is broadcasted to each element of the 1D array `arr`.\n",
        "\n",
        "**c. Array Slicing and Indexing Techniques:**\n",
        "\n",
        "NumPy allows for powerful array slicing and indexing, making it easy to extract and manipulate subsets of arrays.\n",
        "\n",
        "```python\n",
        "import numpy as np\n",
        "\n",
        "# Create a 1D array\n",
        "arr = np.array([1, 2, 3, 4, 5])\n",
        "\n",
        "# Slicing: Extract elements from index 1 to 3 (exclusive)\n",
        "sliced_array = arr[1:4]\n",
        "\n",
        "print(\"Original Array:\", arr)\n",
        "print(\"Sliced Array:\", sliced_array)\n",
        "```\n",
        "\n",
        "In this example, array slicing is used to extract elements from index 1 to 3 (exclusive), resulting in the array `[2, 3, 4]`.\n",
        "\n",
        "**d. Array Operations like Broadcasting and Aggregation:**\n",
        "\n",
        "NumPy provides a variety of array operations beyond element-wise operations, including broadcasting and aggregation functions.\n",
        "\n",
        "```python\n",
        "import numpy as np\n",
        "\n",
        "# Create a 2D array\n",
        "arr = np.array([[1, 2, 3], [4, 5, 6], [7, 8, 9]])\n",
        "\n",
        "# Broadcasting: Add a scalar to the entire array\n",
        "broadcasted_array = arr + 10\n",
        "\n",
        "# Aggregation: Compute the sum and mean of all elements\n",
        "sum_of_elements = np.sum(arr)\n",
        "mean_of_elements = np.mean(arr)\n",
        "\n",
        "print(\"Original Array:\")\n",
        "print(arr)\n",
        "print(\"Broadcasted Array:\")\n",
        "print(broadcasted_array)\n",
        "print(\"Sum of Elements:\", sum_of_elements)\n",
        "print(\"Mean of Elements:\", mean_of_elements)\n",
        "```\n",
        "\n",
        "In this example, broadcasting is used to add the scalar value 10 to the entire 2D array `arr`. Additionally, aggregation functions like `np.sum()` and `np.mean()` are used to calculate the sum and mean of all elements in the array.\n",
        "\n",
        "NumPy's array operations, including broadcasting and aggregation, make it a powerful library for performing numerical computations efficiently and conveniently. Students can explore more advanced operations and functions available in NumPy for scientific computing and data analysis tasks."
      ],
      "metadata": {
        "id": "vWX4cSpVqDRb"
      }
    },
    {
      "cell_type": "markdown",
      "metadata": {
        "id": "Udv4pwMj98ie"
      },
      "source": [
        "## Aggregations: Min, Max, and Everything In Between"
      ]
    },
    {
      "cell_type": "markdown",
      "metadata": {
        "id": "WU0VqiH398if"
      },
      "source": [
        "Often when faced with a large amount of data, a first step is to compute summary statistics for the data in question.\n",
        "Perhaps the most common summary statistics are the mean and standard deviation, which allow you to summarize the \"typical\" values in a dataset, but other aggregates are useful as well (the sum, product, median, minimum and maximum, quantiles, etc.).\n",
        "\n",
        "NumPy has fast built-in aggregation functions for working on arrays; we'll discuss and demonstrate some of them here."
      ]
    },
    {
      "cell_type": "markdown",
      "metadata": {
        "id": "DzbOYKX898if"
      },
      "source": [
        "### Summing the Values in an Array\n",
        "\n",
        "As a quick example, consider computing the sum of all values in an array.\n",
        "Python itself can do this using the built-in ``sum`` function:"
      ]
    },
    {
      "cell_type": "code",
      "execution_count": null,
      "metadata": {
        "id": "abJPK5iS98ig",
        "colab": {
          "base_uri": "https://localhost:8080/"
        },
        "outputId": "b6472f34-8637-4a44-e77b-b4a7c947c736"
      },
      "outputs": [
        {
          "output_type": "execute_result",
          "data": {
            "text/plain": [
              "48.43306925758312"
            ]
          },
          "metadata": {},
          "execution_count": 3
        }
      ],
      "source": [
        "import numpy as np\n",
        "L = np.random.random(100)\n",
        "sum(L)\n",
        "#print(L)"
      ]
    },
    {
      "cell_type": "markdown",
      "metadata": {
        "id": "Yti6QpAo98ig"
      },
      "source": [
        "The syntax is quite similar to that of NumPy's ``sum`` function, and the result is the same in the simplest case:"
      ]
    },
    {
      "cell_type": "code",
      "execution_count": null,
      "metadata": {
        "id": "SkzIBMAo98ig",
        "colab": {
          "base_uri": "https://localhost:8080/"
        },
        "outputId": "238b0a58-7ce3-4764-b7d7-a42c8d77a472"
      },
      "outputs": [
        {
          "output_type": "execute_result",
          "data": {
            "text/plain": [
              "48.43306925758311"
            ]
          },
          "metadata": {},
          "execution_count": 4
        }
      ],
      "source": [
        "np.sum(L)"
      ]
    },
    {
      "cell_type": "code",
      "source": [
        "%timeit sum(L)\n",
        "%timeit np.sum(L)"
      ],
      "metadata": {
        "id": "y0l1zbEQilOc",
        "colab": {
          "base_uri": "https://localhost:8080/"
        },
        "outputId": "7eb4b4b1-a5e2-491d-8b1c-290e5f95e1f9"
      },
      "execution_count": null,
      "outputs": [
        {
          "output_type": "stream",
          "name": "stdout",
          "text": [
            "12.9 µs ± 3.95 µs per loop (mean ± std. dev. of 7 runs, 100000 loops each)\n",
            "3.85 µs ± 126 ns per loop (mean ± std. dev. of 7 runs, 100000 loops each)\n"
          ]
        }
      ]
    },
    {
      "cell_type": "markdown",
      "metadata": {
        "id": "l_Rqyjoz98ih"
      },
      "source": [
        "### Minimum and Maximum\n",
        "\n",
        "Similarly, Python has built-in ``min`` and ``max`` functions, used to find the minimum value and maximum value of any given array:"
      ]
    },
    {
      "cell_type": "code",
      "execution_count": null,
      "metadata": {
        "id": "e1txdSoC98ii",
        "colab": {
          "base_uri": "https://localhost:8080/"
        },
        "outputId": "aabef176-a8ef-4801-a678-c80df85e47e1"
      },
      "outputs": [
        {
          "output_type": "execute_result",
          "data": {
            "text/plain": [
              "(8.924255656683755e-08, 0.9999992303732037)"
            ]
          },
          "metadata": {},
          "execution_count": 6
        }
      ],
      "source": [
        "big_array = np.random.rand(1000000)\n",
        "min(big_array), max(big_array)"
      ]
    },
    {
      "cell_type": "markdown",
      "metadata": {
        "id": "Vt3V7t8O98ii"
      },
      "source": [
        "NumPy's corresponding functions have similar syntax, and again operate much more quickly:"
      ]
    },
    {
      "cell_type": "code",
      "execution_count": null,
      "metadata": {
        "id": "tOcTulpL98ii",
        "colab": {
          "base_uri": "https://localhost:8080/"
        },
        "outputId": "655c7ea9-ad03-4574-b84b-2960c5249986"
      },
      "outputs": [
        {
          "output_type": "execute_result",
          "data": {
            "text/plain": [
              "(8.924255656683755e-08, 0.9999992303732037)"
            ]
          },
          "metadata": {},
          "execution_count": 7
        }
      ],
      "source": [
        "np.min(big_array), np.max(big_array)"
      ]
    },
    {
      "cell_type": "markdown",
      "metadata": {
        "id": "YeFQQFHX98ii"
      },
      "source": [
        "Whenever possible, make sure that you are using the NumPy version of these aggregates when operating on NumPy arrays!"
      ]
    },
    {
      "cell_type": "code",
      "execution_count": null,
      "metadata": {
        "id": "BRP1FmZ-h1qY",
        "colab": {
          "base_uri": "https://localhost:8080/"
        },
        "outputId": "fc143be2-8ba0-4834-b099-a4c886633621"
      },
      "outputs": [
        {
          "output_type": "stream",
          "name": "stdout",
          "text": [
            "71.4 ms ± 1.55 ms per loop (mean ± std. dev. of 7 runs, 10 loops each)\n",
            "384 µs ± 15.7 µs per loop (mean ± std. dev. of 7 runs, 1000 loops each)\n"
          ]
        }
      ],
      "source": [
        "%timeit min(big_array)\n",
        "%timeit np.min(big_array)"
      ]
    },
    {
      "cell_type": "markdown",
      "metadata": {
        "id": "RP5L1NVl98ii"
      },
      "source": [
        "### Multi dimensional aggregates\n",
        "\n",
        "One common type of aggregation operation is an aggregate along a row or column.\n",
        "Say you have some data stored in a two-dimensional array:"
      ]
    },
    {
      "cell_type": "code",
      "execution_count": null,
      "metadata": {
        "id": "PvpOmMk398ij",
        "colab": {
          "base_uri": "https://localhost:8080/"
        },
        "outputId": "75b7f3fb-f779-4fcb-d292-fdb05ce1cd6a"
      },
      "outputs": [
        {
          "output_type": "stream",
          "name": "stdout",
          "text": [
            "[[0.70068266 0.57310636 0.49072334 0.50066492]\n",
            " [0.5549067  0.43787666 0.82076915 0.22311522]\n",
            " [0.33520357 0.69326758 0.39145078 0.65617501]]\n"
          ]
        }
      ],
      "source": [
        "M = np.random.random((3, 4))\n",
        "print(M)"
      ]
    },
    {
      "cell_type": "markdown",
      "metadata": {
        "id": "G5PR1xPh98ij"
      },
      "source": [
        "By default, each NumPy aggregation function will return the aggregate over the entire array:"
      ]
    },
    {
      "cell_type": "code",
      "execution_count": null,
      "metadata": {
        "id": "Wj2pa8W298ij",
        "colab": {
          "base_uri": "https://localhost:8080/"
        },
        "outputId": "a92f10e1-8236-4482-9cbd-bb1288ad89e4"
      },
      "outputs": [
        {
          "output_type": "execute_result",
          "data": {
            "text/plain": [
              "6.377941951065398"
            ]
          },
          "metadata": {},
          "execution_count": 10
        }
      ],
      "source": [
        "np.sum(M)"
      ]
    },
    {
      "cell_type": "markdown",
      "metadata": {
        "id": "hsJfavad98ij"
      },
      "source": [
        "Aggregation functions take an additional argument specifying the *axis* along which the aggregate is computed. For example, we can find the minimum value within each column by specifying ``axis=0``:"
      ]
    },
    {
      "cell_type": "code",
      "execution_count": null,
      "metadata": {
        "id": "GZ_BsqKr98ij",
        "colab": {
          "base_uri": "https://localhost:8080/"
        },
        "outputId": "b5d3dee6-3346-49c4-e73c-ac99517a57d4"
      },
      "outputs": [
        {
          "output_type": "execute_result",
          "data": {
            "text/plain": [
              "array([0.33520357, 0.43787666, 0.39145078, 0.22311522])"
            ]
          },
          "metadata": {},
          "execution_count": 11
        }
      ],
      "source": [
        "M.min(axis=0)"
      ]
    },
    {
      "cell_type": "markdown",
      "metadata": {
        "id": "6meG9SUQ98ij"
      },
      "source": [
        "The function returns four values, corresponding to the four columns of numbers.\n",
        "\n",
        "Similarly, we can find the maximum value within each row:"
      ]
    },
    {
      "cell_type": "code",
      "execution_count": null,
      "metadata": {
        "id": "vbraDiA398ij",
        "colab": {
          "base_uri": "https://localhost:8080/"
        },
        "outputId": "82496fd7-1f13-48f8-ed2a-525758f525f7"
      },
      "outputs": [
        {
          "output_type": "execute_result",
          "data": {
            "text/plain": [
              "array([0.70068266, 0.82076915, 0.69326758])"
            ]
          },
          "metadata": {},
          "execution_count": 12
        }
      ],
      "source": [
        "M.max(axis=1)"
      ]
    },
    {
      "cell_type": "markdown",
      "metadata": {
        "id": "5GUGHd79ol8h"
      },
      "source": [
        "### Other aggregation functions\n",
        "\n",
        "The following table provides a list of useful aggregation functions available in NumPy:\n",
        "\n",
        "|Function Name      |   NaN-safe Version  | Description                                   |\n",
        "|-------------------|---------------------|-----------------------------------------------|\n",
        "| ``np.sum``        | ``np.nansum``       | Compute sum of elements                       |\n",
        "| ``np.prod``       | ``np.nanprod``      | Compute product of elements                   |\n",
        "| ``np.mean``       | ``np.nanmean``      | Compute mean of elements                      |\n",
        "| ``np.std``        | ``np.nanstd``       | Compute standard deviation                    |\n",
        "| ``np.var``        | ``np.nanvar``       | Compute variance                              |\n",
        "| ``np.min``        | ``np.nanmin``       | Find minimum value                            |\n",
        "| ``np.max``        | ``np.nanmax``       | Find maximum value                            |\n",
        "| ``np.argmin``     | ``np.nanargmin``    | Find index of minimum value                   |\n",
        "| ``np.argmax``     | ``np.nanargmax``    | Find index of maximum value                   |\n",
        "| ``np.median``     | ``np.nanmedian``    | Compute median of elements                    |\n",
        "| ``np.percentile`` | ``np.nanpercentile``| Compute rank-based statistics of elements     |\n",
        "| ``np.any``        | N/A                 | Evaluate whether any elements are true        |\n",
        "| ``np.all``        | N/A                 | Evaluate whether all elements are true        |\n"
      ]
    },
    {
      "cell_type": "markdown",
      "source": [
        "## **Advanced NumPy Operations**\n",
        "\n",
        "**a. More Complex Array Manipulations using Boolean Indexing and Fancy Indexing:**\n",
        "\n",
        "NumPy offers advanced array manipulation techniques, including boolean indexing and fancy indexing, to efficiently extract, modify, and manipulate array elements based on specific conditions or predefined index arrays.\n",
        "\n",
        "**Boolean Indexing:**\n",
        "\n",
        "Boolean indexing allows you to use boolean masks to select elements from an array that satisfy certain conditions.\n",
        "\n",
        "```python\n",
        "import numpy as np\n",
        "\n",
        "# Create a 1D array\n",
        "arr = np.array([1, 2, 3, 4, 5])\n",
        "\n",
        "# Boolean mask to select elements greater than 2\n",
        "mask = arr > 2\n",
        "\n",
        "# Select elements using the mask\n",
        "selected_elements = arr[mask]\n",
        "\n",
        "print(\"Original Array:\", arr)\n",
        "print(\"Boolean Mask:\", mask)\n",
        "print(\"Selected Elements:\", selected_elements)\n",
        "```\n",
        "\n",
        "In this example, we create a boolean mask `mask` to select elements from the array `arr` that are greater than 2. The result is `[3, 4, 5]`.\n",
        "\n",
        "**Fancy Indexing:**\n",
        "\n",
        "Fancy indexing allows you to use integer arrays to access specific elements from an array.\n",
        "\n",
        "```python\n",
        "import numpy as np\n",
        "\n",
        "# Create a 1D array\n",
        "arr = np.array([10, 20, 30, 40, 50])\n",
        "\n",
        "# Integer array with indices of elements to select\n",
        "indices = np.array([1, 3])\n",
        "\n",
        "# Select elements using fancy indexing\n",
        "selected_elements = arr[indices]\n",
        "\n",
        "print(\"Original Array:\", arr)\n",
        "print(\"Indices:\", indices)\n",
        "print(\"Selected Elements:\", selected_elements)\n",
        "```\n",
        "\n",
        "In this example, we create an integer array `indices` with the indices of elements we want to select from the array `arr`. The result is `[20, 40]`.\n",
        "\n",
        "**b. Array Reshaping and Concatenation:**\n",
        "\n",
        "**Array Reshaping:**\n",
        "\n",
        "NumPy allows you to reshape arrays, converting them into different shapes without changing the data.\n",
        "\n",
        "```python\n",
        "import numpy as np\n",
        "\n",
        "# Create a 1D array\n",
        "arr = np.array([1, 2, 3, 4, 5, 6])\n",
        "\n",
        "# Reshape the array to a 2D array with 2 rows and 3 columns\n",
        "reshaped_array = arr.reshape(2, 3)\n",
        "\n",
        "print(\"Original Array:\")\n",
        "print(arr)\n",
        "print(\"Reshaped Array:\")\n",
        "print(reshaped_array)\n",
        "```\n",
        "\n",
        "In this example, we reshape the 1D array `arr` into a 2D array with 2 rows and 3 columns. The result is:\n",
        "\n",
        "```\n",
        "Original Array:\n",
        "[1 2 3 4 5 6]\n",
        "Reshaped Array:\n",
        "[[1 2 3]\n",
        " [4 5 6]]\n",
        "```\n",
        "\n",
        "**Array Concatenation:**\n",
        "\n",
        "NumPy allows you to concatenate multiple arrays along a specified axis.\n",
        "\n",
        "```python\n",
        "import numpy as np\n",
        "\n",
        "# Create two 1D arrays\n",
        "arr1 = np.array([1, 2, 3])\n",
        "arr2 = np.array([4, 5, 6])\n",
        "\n",
        "# Concatenate the arrays horizontally (along axis=0)\n",
        "concatenated_array = np.concatenate((arr1, arr2))\n",
        "\n",
        "print(\"Array 1:\", arr1)\n",
        "print(\"Array 2:\", arr2)\n",
        "print(\"Concatenated Array:\", concatenated_array)\n",
        "```\n",
        "\n",
        "In this example, we concatenate `arr1` and `arr2` horizontally along `axis=0`, resulting in the array `[1, 2, 3, 4, 5, 6]`.\n",
        "\n",
        "Students can use these advanced techniques to efficiently manipulate arrays, perform data filtering, and combine arrays for various data analysis and scientific computing tasks. Understanding boolean indexing, fancy indexing, array reshaping, and concatenation expands the possibilities of working with NumPy arrays effectively."
      ],
      "metadata": {
        "id": "OvacjNkvHGwd"
      }
    },
    {
      "cell_type": "markdown",
      "metadata": {
        "id": "mjvstb0C_Rd9"
      },
      "source": [
        "## Sorting Arrays"
      ]
    },
    {
      "cell_type": "markdown",
      "metadata": {
        "id": "Vlsjf50a_ReB"
      },
      "source": [
        "### Fast Sorting in NumPy: ``np.sort`` and ``np.argsort``\n",
        "\n",
        "Although Python has built-in ``sort`` and ``sorted`` functions to work with lists, we won't discuss them here because NumPy's ``np.sort`` function turns out to be much more efficient and useful for our purposes.\n",
        "By default ``np.sort`` uses an $\\mathcal{O}[N\\log N]$, *quicksort* algorithm, though *mergesort* and *heapsort* are also available. For most applications, the default quicksort is more than sufficient.\n",
        "\n",
        "To return a sorted version of the array without modifying the input, you can use ``np.sort``:"
      ]
    },
    {
      "cell_type": "code",
      "execution_count": null,
      "metadata": {
        "id": "FuvUYNDU_ReB",
        "colab": {
          "base_uri": "https://localhost:8080/"
        },
        "outputId": "50460c1b-20de-4266-adf5-90fed310e049"
      },
      "outputs": [
        {
          "output_type": "execute_result",
          "data": {
            "text/plain": [
              "array([1, 2, 3, 4, 5])"
            ]
          },
          "metadata": {},
          "execution_count": 13
        }
      ],
      "source": [
        "x = np.array([2, 1, 4, 3, 5])\n",
        "np.sort(x)"
      ]
    },
    {
      "cell_type": "markdown",
      "metadata": {
        "id": "CGHZ5Arl_ReB"
      },
      "source": [
        "If you prefer to sort the array in-place, you can instead use the ``sort`` method of arrays:"
      ]
    },
    {
      "cell_type": "code",
      "execution_count": null,
      "metadata": {
        "id": "Qmcbhj8V_ReB",
        "colab": {
          "base_uri": "https://localhost:8080/"
        },
        "outputId": "d761a634-a970-453b-d2e1-c54612ef81fb"
      },
      "outputs": [
        {
          "output_type": "stream",
          "name": "stdout",
          "text": [
            "[1 2 3 4 5]\n"
          ]
        }
      ],
      "source": [
        "x.sort()\n",
        "print(x)"
      ]
    },
    {
      "cell_type": "markdown",
      "metadata": {
        "id": "JcCo869U_ReC"
      },
      "source": [
        "A related function is ``argsort``, which instead returns the *indices* of the sorted elements:"
      ]
    },
    {
      "cell_type": "code",
      "execution_count": null,
      "metadata": {
        "id": "FWqF-aIX_ReC",
        "colab": {
          "base_uri": "https://localhost:8080/"
        },
        "outputId": "2cf1f2e5-c362-466f-d0fe-75c6c64a813d"
      },
      "outputs": [
        {
          "output_type": "stream",
          "name": "stdout",
          "text": [
            "[1 0 3 2 4]\n"
          ]
        }
      ],
      "source": [
        "x = np.array([2, 1, 4, 3, 5])\n",
        "i = np.argsort(x)\n",
        "print(i)"
      ]
    },
    {
      "cell_type": "markdown",
      "metadata": {
        "id": "6PRJv-JS_ReC"
      },
      "source": [
        "The **first element** of this result gives the **index of the smallest element**, the **second value** gives the **index of the second smallest**, and so on.\n"
      ]
    },
    {
      "cell_type": "code",
      "execution_count": null,
      "metadata": {
        "id": "KPvKLJM7_ReC"
      },
      "outputs": [],
      "source": [
        "x[i]"
      ]
    },
    {
      "cell_type": "markdown",
      "metadata": {
        "id": "Owb6qAU1_ReC"
      },
      "source": [
        "### Sorting along rows or columns"
      ]
    },
    {
      "cell_type": "markdown",
      "metadata": {
        "id": "tYykQcua_ReC"
      },
      "source": [
        "A useful feature of NumPy's sorting algorithms is the ability to sort along specific rows or columns of a multidimensional array using the ``axis`` argument. For example:"
      ]
    },
    {
      "cell_type": "code",
      "execution_count": null,
      "metadata": {
        "id": "i6JizmTS_ReC",
        "colab": {
          "base_uri": "https://localhost:8080/"
        },
        "outputId": "b63fdade-4835-4546-d206-751069899b61"
      },
      "outputs": [
        {
          "output_type": "stream",
          "name": "stdout",
          "text": [
            "[[6 3 7 4 6 9]\n",
            " [2 6 7 4 3 7]\n",
            " [7 2 5 4 1 7]\n",
            " [5 1 4 0 9 5]]\n"
          ]
        }
      ],
      "source": [
        "rand = np.random.RandomState(42)\n",
        "X = rand.randint(0, 10, (4, 6))\n",
        "print(X)"
      ]
    },
    {
      "cell_type": "code",
      "execution_count": null,
      "metadata": {
        "id": "YnYDJYwu_ReD",
        "colab": {
          "base_uri": "https://localhost:8080/"
        },
        "outputId": "a86f084e-493e-4fb9-e593-ecc1ed12af62"
      },
      "outputs": [
        {
          "output_type": "execute_result",
          "data": {
            "text/plain": [
              "array([[2, 1, 4, 0, 1, 5],\n",
              "       [5, 2, 5, 4, 3, 7],\n",
              "       [6, 3, 7, 4, 6, 7],\n",
              "       [7, 6, 7, 4, 9, 9]])"
            ]
          },
          "metadata": {},
          "execution_count": 16
        }
      ],
      "source": [
        "# sort each column of X\n",
        "np.sort(X, axis=0)"
      ]
    },
    {
      "cell_type": "code",
      "execution_count": null,
      "metadata": {
        "id": "S5yueaM-_ReD",
        "colab": {
          "base_uri": "https://localhost:8080/"
        },
        "outputId": "708f4a64-0497-4a53-ba97-b65d591d4247"
      },
      "outputs": [
        {
          "output_type": "execute_result",
          "data": {
            "text/plain": [
              "array([[3, 4, 6, 6, 7, 9],\n",
              "       [2, 3, 4, 6, 7, 7],\n",
              "       [1, 2, 4, 5, 7, 7],\n",
              "       [0, 1, 4, 5, 5, 9]])"
            ]
          },
          "metadata": {},
          "execution_count": 17
        }
      ],
      "source": [
        "# sort each row of X\n",
        "np.sort(X, axis=1)"
      ]
    },
    {
      "cell_type": "markdown",
      "metadata": {
        "id": "AaAgeVZn_ReD"
      },
      "source": [
        "Keep in mind that this treats each row or column as an independent array, and any relationships between the row or column values will be lost!"
      ]
    },
    {
      "cell_type": "markdown",
      "metadata": {
        "id": "Y7LBKJEh_ReD"
      },
      "source": [
        "### Partial Sorts: Partitioning\n",
        "\n",
        "Sometimes we're not interested in sorting the entire array, but simply want to find the *k* smallest values in the array. NumPy provides this in the ``np.partition`` function. ``np.partition`` takes an array and a number *K*; the result is a new array with the smallest *K* values to the left of the partition, and the remaining values to the right, in arbitrary order:"
      ]
    },
    {
      "cell_type": "code",
      "execution_count": null,
      "metadata": {
        "id": "0GzuT-K__ReD"
      },
      "outputs": [],
      "source": [
        "x = np.array([71, 25, 33, 18, 63, 51, 42])\n",
        "np.partition(x, 3)"
      ]
    },
    {
      "cell_type": "markdown",
      "metadata": {
        "id": "ucAuUixN_ReD"
      },
      "source": [
        "Note that the first three values in the resulting array are the three smallest in the array, and the remaining array positions contain the remaining values.\n",
        "Within the two partitions, the elements have arbitrary order.\n",
        "\n",
        "Similarly to sorting, we can partition along an arbitrary axis of a multidimensional array:"
      ]
    },
    {
      "cell_type": "code",
      "source": [
        "X"
      ],
      "metadata": {
        "id": "eq_BVajK7-MT"
      },
      "execution_count": null,
      "outputs": []
    },
    {
      "cell_type": "code",
      "execution_count": null,
      "metadata": {
        "id": "O0nc4ats_ReD"
      },
      "outputs": [],
      "source": [
        "np.partition(X, 2, axis=1)"
      ]
    },
    {
      "cell_type": "markdown",
      "metadata": {
        "id": "mxOcWU-b_ReD"
      },
      "source": [
        "The result is an array where the first two slots in each row contain the smallest values from that row, with the remaining values filling the remaining slots.\n",
        "\n",
        "\n"
      ]
    },
    {
      "cell_type": "markdown",
      "source": [
        "## **Practice Exercises**"
      ],
      "metadata": {
        "id": "Tn0L9uD-HS1n"
      }
    },
    {
      "cell_type": "markdown",
      "source": [
        "**Exercise 1: Boolean Indexing**\n",
        "\n",
        "Given an array of temperatures (in Celsius), use boolean indexing to find and print temperatures above 30 degrees."
      ],
      "metadata": {
        "id": "aYryLU7lHhfX"
      }
    },
    {
      "cell_type": "code",
      "source": [],
      "metadata": {
        "id": "_RbsQjFBH_84"
      },
      "execution_count": null,
      "outputs": []
    },
    {
      "cell_type": "markdown",
      "source": [
        "**Exercise 2: Fancy Indexing**\n",
        "\n",
        "Given an array of integers, use fancy indexing to extract all elements at even indices and store them in a new array."
      ],
      "metadata": {
        "id": "oerRSFhMH9CY"
      }
    },
    {
      "cell_type": "code",
      "source": [],
      "metadata": {
        "id": "rJlI1pK2H94R"
      },
      "execution_count": null,
      "outputs": []
    },
    {
      "cell_type": "markdown",
      "source": [
        "**Exercise 3: Array Reshaping**\n",
        "\n",
        "Create a 1D array of numbers from 1 to 20. Reshape the array into a 2D array with 4 rows and 5 columns."
      ],
      "metadata": {
        "id": "wifOA29IH4hT"
      }
    },
    {
      "cell_type": "code",
      "source": [],
      "metadata": {
        "id": "J0K5KG2gH5Bm"
      },
      "execution_count": null,
      "outputs": []
    },
    {
      "cell_type": "markdown",
      "source": [
        "**Exercise 4: Array Concatenation**\n",
        "\n",
        "Create two 1D arrays of equal length. Concatenate these arrays horizontally and vertically to create two new arrays."
      ],
      "metadata": {
        "id": "s9I6rOiDH2nu"
      }
    },
    {
      "cell_type": "code",
      "source": [],
      "metadata": {
        "id": "r9NGQ1XDH3Ne"
      },
      "execution_count": null,
      "outputs": []
    },
    {
      "cell_type": "markdown",
      "source": [
        "**Exercise 5: Element-Wise Operations**\n",
        "\n",
        "Create two 2D arrays of the same shape. Perform element-wise addition, subtraction, multiplication, and division on these arrays and store the results in separate arrays."
      ],
      "metadata": {
        "id": "28BOFhkkH0QZ"
      }
    },
    {
      "cell_type": "code",
      "source": [],
      "metadata": {
        "id": "bh8iI85-H0zS"
      },
      "execution_count": null,
      "outputs": []
    },
    {
      "cell_type": "markdown",
      "source": [
        "**Exercise 6: Array Broadcasting**\n",
        "\n",
        "Create a 1D array of numbers from 1 to 5. Add a constant value of 10 to the array using broadcasting."
      ],
      "metadata": {
        "id": "tScfENoRHxzZ"
      }
    },
    {
      "cell_type": "code",
      "source": [],
      "metadata": {
        "id": "P7T9CC5nHyQi"
      },
      "execution_count": null,
      "outputs": []
    },
    {
      "cell_type": "markdown",
      "source": [
        "**Exercise 7: Array Aggregation**\n",
        "\n",
        "Create a 2D array of random integers. Calculate and print the sum, mean, maximum, and minimum of all elements in the array."
      ],
      "metadata": {
        "id": "4LsFOQq_HvoD"
      }
    },
    {
      "cell_type": "code",
      "source": [],
      "metadata": {
        "id": "Z-RFEWG5HwHT"
      },
      "execution_count": null,
      "outputs": []
    },
    {
      "cell_type": "markdown",
      "source": [
        "**Exercise 8: Array Sorting**\n",
        "\n",
        "Create a 1D array of random integers. Sort the array in ascending and descending order."
      ],
      "metadata": {
        "id": "BnYeOjd5HtRP"
      }
    },
    {
      "cell_type": "code",
      "source": [],
      "metadata": {
        "id": "uBf49YRyHt3B"
      },
      "execution_count": null,
      "outputs": []
    },
    {
      "cell_type": "markdown",
      "source": [
        "**Exercise 9: Transposing Arrays**\n",
        "\n",
        "Create a 2D array and then transpose it (swap rows and columns) to obtain a new array."
      ],
      "metadata": {
        "id": "hoO6wpHdHrUj"
      }
    },
    {
      "cell_type": "code",
      "source": [],
      "metadata": {
        "id": "TIJhvIazHr1F"
      },
      "execution_count": null,
      "outputs": []
    },
    {
      "cell_type": "markdown",
      "source": [
        "**Exercise 10: Universal Functions**\n",
        "\n",
        "Create a 1D array of numbers. Use NumPy's universal functions (`np.sin`, `np.cos`, `np.exp`, etc.) to calculate the corresponding trigonometric and exponential values for each element."
      ],
      "metadata": {
        "id": "RPzMw2F5Ho4B"
      }
    },
    {
      "cell_type": "code",
      "source": [],
      "metadata": {
        "id": "ogbSb8aEHpki"
      },
      "execution_count": null,
      "outputs": []
    },
    {
      "cell_type": "markdown",
      "source": [
        "**Exercise 11: Random Number Generation**\n",
        "\n",
        "Use NumPy's random number generation functions to create arrays of random integers and random floating-point numbers."
      ],
      "metadata": {
        "id": "zGNvliVBHmgN"
      }
    },
    {
      "cell_type": "code",
      "source": [],
      "metadata": {
        "id": "WKbd3i40Hm6k"
      },
      "execution_count": null,
      "outputs": []
    },
    {
      "cell_type": "markdown",
      "source": [
        "**Exercise 12: Linear Algebra Operations**\n",
        "\n",
        "Create two 2D arrays and perform matrix multiplication and matrix inversion on them."
      ],
      "metadata": {
        "id": "9dAXsoRBHkKd"
      }
    },
    {
      "cell_type": "code",
      "source": [],
      "metadata": {
        "id": "8CYNU-f-Hkkz"
      },
      "execution_count": null,
      "outputs": []
    }
  ]
}